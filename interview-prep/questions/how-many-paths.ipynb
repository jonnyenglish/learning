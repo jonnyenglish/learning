{
 "cells": [
  {
   "cell_type": "markdown",
   "metadata": {},
   "source": [
    "# How many paths\n",
    "\n",
    "We need to navigate through an `m x n` grid, starting at the top-left and exiting at the bottom-right. We can only move either down or right at any point in order to get to the finish. Additionally, certain grid entries can be blocked, as shown in the table below.  \n",
    "How many unique paths exist?\n",
    "\n",
    "### Example\n",
    "\n",
    "```\n",
    "Input:\n",
    "[\n",
    "  [0,0,0],\n",
    "  [0,1,0],\n",
    "  [0,0,0]\n",
    "]\n",
    "\n",
    "Expected Output: 2\n",
    "\n",
    "Explanation:\n",
    "There is one obstacle in the middle of the 3x3 grid above.\n",
    "There are two ways to reach the bottom-right corner:\n",
    "1. Right -> Right -> Down -> Down\n",
    "2. Down -> Down -> Right -> Right\n",
    "```"
   ]
  },
  {
   "cell_type": "markdown",
   "metadata": {},
   "source": [
    "### Recursion without memoization"
   ]
  },
  {
   "cell_type": "code",
   "execution_count": 1,
   "metadata": {},
   "outputs": [],
   "source": [
    "def how_many_paths(grid):\n",
    "    return dfs(grid, (0, 0))\n",
    "    \n",
    "dirs = [(0,1), (1,0)]\n",
    "def dfs(grid, start):\n",
    "    if start[0] >= len(grid) or start[1] >= len(grid[0]) or grid[start[0]][start[1]] == 1: return 0\n",
    "    end = (len(grid)-1, len(grid[0])-1)\n",
    "    if start[0] == end[0] and start[1] == end[1]: return 1\n",
    "    ans = 0\n",
    "    for dir in dirs:\n",
    "        ans += dfs(grid, (start[0]+dir[0], start[1]+dir[1]))\n",
    "    return ans"
   ]
  },
  {
   "cell_type": "markdown",
   "metadata": {},
   "source": [
    "### Tests"
   ]
  },
  {
   "cell_type": "code",
   "execution_count": 2,
   "metadata": {},
   "outputs": [],
   "source": [
    "tests = [\n",
    "    ([], 0),\n",
    "    (\n",
    "        [\n",
    "            [0,0,0],\n",
    "            [0,1,0],\n",
    "            [0,0,0]\n",
    "        ], 2\n",
    "    ),\n",
    "    (\n",
    "        [\n",
    "            [0,0,0],\n",
    "            [0,0,0],\n",
    "            [0,0,0]\n",
    "        ], 6\n",
    "    ),\n",
    "    (\n",
    "        [\n",
    "            [1,0,0],\n",
    "            [0,0,0],\n",
    "            [0,0,0]\n",
    "        ], 0\n",
    "    ),\n",
    "    (\n",
    "        [\n",
    "            [0,0,0],\n",
    "            [0,0,0],\n",
    "            [0,0,1]\n",
    "        ], 0\n",
    "    ),\n",
    "    (\n",
    "        [\n",
    "            [0,0,1],\n",
    "            [1,0,1],\n",
    "            [0,0,0]\n",
    "        ], 1\n",
    "    ),\n",
    "    (\n",
    "        [\n",
    "            [0,1,0],\n",
    "            [1,1,0],\n",
    "            [0,0,0]\n",
    "        ], 0\n",
    "    )\n",
    "]"
   ]
  },
  {
   "cell_type": "code",
   "execution_count": 3,
   "metadata": {},
   "outputs": [],
   "source": [
    "for grid, want in tests:\n",
    "    assert how_many_paths(grid) == want"
   ]
  },
  {
   "cell_type": "code",
   "execution_count": 4,
   "metadata": {},
   "outputs": [],
   "source": [
    "from datetime import datetime, timedelta"
   ]
  },
  {
   "cell_type": "code",
   "execution_count": 5,
   "metadata": {},
   "outputs": [],
   "source": [
    "times = []\n",
    "for x in range(14):\n",
    "    grid = [[0 for i in range(x)] for j in range(x)]\n",
    "    start = datetime.now()\n",
    "    how_many_paths(grid)\n",
    "    end = datetime.now()\n",
    "    times.append((end-start)/timedelta(milliseconds=1))"
   ]
  },
  {
   "cell_type": "code",
   "execution_count": 6,
   "metadata": {},
   "outputs": [],
   "source": [
    "import seaborn as sns"
   ]
  },
  {
   "cell_type": "markdown",
   "metadata": {},
   "source": [
    "Actual runtime"
   ]
  },
  {
   "cell_type": "code",
   "execution_count": 7,
   "metadata": {},
   "outputs": [
    {
     "data": {
      "text/plain": [
       "<AxesSubplot:>"
      ]
     },
     "execution_count": 7,
     "metadata": {},
     "output_type": "execute_result"
    },
    {
     "data": {
      "image/png": "[encoded data removed]",
      "text/plain": [
       "<Figure size 432x288 with 1 Axes>"
      ]
     },
     "metadata": {
      "needs_background": "light"
     },
     "output_type": "display_data"
    }
   ],
   "source": [
    "sns.lineplot(data=times)"
   ]
  },
  {
   "cell_type": "markdown",
   "metadata": {},
   "source": [
    "O(n^2)"
   ]
  },
  {
   "cell_type": "code",
   "execution_count": 8,
   "metadata": {},
   "outputs": [
    {
     "data": {
      "text/plain": [
       "<AxesSubplot:>"
      ]
     },
     "execution_count": 8,
     "metadata": {},
     "output_type": "execute_result"
    },
    {
     "data": {
      "image/png": "[encoded data removed]",
      "text/plain": [
       "<Figure size 432x288 with 1 Axes>"
      ]
     },
     "metadata": {
      "needs_background": "light"
     },
     "output_type": "display_data"
    }
   ],
   "source": [
    "sns.lineplot(data=[(x*x)**2 for x in range(14)])"
   ]
  },
  {
   "cell_type": "markdown",
   "metadata": {},
   "source": [
    "O(2^n)"
   ]
  },
  {
   "cell_type": "code",
   "execution_count": 9,
   "metadata": {},
   "outputs": [
    {
     "data": {
      "text/plain": [
       "<AxesSubplot:>"
      ]
     },
     "execution_count": 9,
     "metadata": {},
     "output_type": "execute_result"
    },
    {
     "data": {
      "image/png": "[encoded data removed]",
      "text/plain": [
       "<Figure size 432x288 with 1 Axes>"
      ]
     },
     "metadata": {
      "needs_background": "light"
     },
     "output_type": "display_data"
    }
   ],
   "source": [
    "sns.lineplot(data=[2**(x/20*x/20) for x in range(70)])"
   ]
  },
  {
   "cell_type": "markdown",
   "metadata": {},
   "source": [
    "### Recursion with memoization"
   ]
  },
  {
   "cell_type": "code",
   "execution_count": 10,
   "metadata": {},
   "outputs": [],
   "source": [
    "dirs = [(0,1), (1,0)]\n",
    "class solution():\n",
    "    def __init__(self, grid):\n",
    "        self.grid = grid\n",
    "        self.visited = {}\n",
    "\n",
    "    def how_many_paths(self):\n",
    "        return self.dfs((0, 0))\n",
    "\n",
    "    def dfs(self, start):\n",
    "        if start in self.visited:\n",
    "            return self.visited[start]\n",
    "        if start[0] >= len(self.grid) or start[1] >= len(self.grid[0]) or self.grid[start[0]][start[1]] == 1: return 0\n",
    "        end = (len(self.grid)-1, len(self.grid[0])-1)\n",
    "        if start[0] == end[0] and start[1] == end[1]: return 1\n",
    "        ans = 0\n",
    "        for dir in dirs:\n",
    "            ans += self.dfs((start[0]+dir[0], start[1]+dir[1]))\n",
    "        self.visited[start] = ans\n",
    "        return ans"
   ]
  },
  {
   "cell_type": "markdown",
   "metadata": {},
   "source": [
    "### Tests"
   ]
  },
  {
   "cell_type": "code",
   "execution_count": 11,
   "metadata": {},
   "outputs": [],
   "source": [
    "for grid, want in tests:\n",
    "    s = solution(grid)\n",
    "    assert s.how_many_paths() ==  want"
   ]
  },
  {
   "cell_type": "code",
   "execution_count": 12,
   "metadata": {},
   "outputs": [],
   "source": [
    "times = []\n",
    "for x in range(0, 200, 2):\n",
    "    grid = [[0 for i in range(x)] for j in range(x)]\n",
    "    start = datetime.now()\n",
    "    s = solution(grid)\n",
    "    s.how_many_paths()\n",
    "    end = datetime.now()\n",
    "    times.append((end-start)/timedelta(milliseconds=1))"
   ]
  },
  {
   "cell_type": "markdown",
   "metadata": {},
   "source": [
    "Actual runtime"
   ]
  },
  {
   "cell_type": "code",
   "execution_count": 13,
   "metadata": {},
   "outputs": [
    {
     "data": {
      "text/plain": [
       "<AxesSubplot:>"
      ]
     },
     "execution_count": 13,
     "metadata": {},
     "output_type": "execute_result"
    },
    {
     "data": {
      "image/png": "[encoded data removed]",
      "text/plain": [
       "<Figure size 432x288 with 1 Axes>"
      ]
     },
     "metadata": {
      "needs_background": "light"
     },
     "output_type": "display_data"
    }
   ],
   "source": [
    "sns.lineplot(data=times)"
   ]
  },
  {
   "cell_type": "markdown",
   "metadata": {},
   "source": [
    "O(n)"
   ]
  },
  {
   "cell_type": "code",
   "execution_count": 14,
   "metadata": {},
   "outputs": [
    {
     "data": {
      "text/plain": [
       "<AxesSubplot:>"
      ]
     },
     "execution_count": 14,
     "metadata": {},
     "output_type": "execute_result"
    },
    {
     "data": {
      "image/png": "[encoded data removed]",
      "text/plain": [
       "<Figure size 432x288 with 1 Axes>"
      ]
     },
     "metadata": {
      "needs_background": "light"
     },
     "output_type": "display_data"
    }
   ],
   "source": [
    "sns.lineplot(data=[x for x in range(20)])"
   ]
  },
  {
   "cell_type": "markdown",
   "metadata": {},
   "source": [
    "### Dynamic Programming"
   ]
  },
  {
   "cell_type": "code",
   "execution_count": 15,
   "metadata": {},
   "outputs": [],
   "source": [
    "def how_many_paths(grid):\n",
    "    dp = [[0 for cell in row] for row in grid]\n",
    "    for i, row in enumerate(grid):\n",
    "        for j, cell in enumerate(row):\n",
    "            if cell == 1: continue\n",
    "            x = dp[i-1][j] if i > 0 else 0\n",
    "            y = dp[i][j-1] if j > 0 else 0\n",
    "            dp[i][j] = 1 if i == 0 and j == 0 else x+y\n",
    "            if i == len(grid)-1 and j == len(grid[0])-1: return dp[i][j]\n",
    "    return 0"
   ]
  },
  {
   "cell_type": "markdown",
   "metadata": {},
   "source": [
    "### Tests"
   ]
  },
  {
   "cell_type": "code",
   "execution_count": 16,
   "metadata": {},
   "outputs": [],
   "source": [
    "for grid, want in tests:\n",
    "    assert how_many_paths(grid) == want"
   ]
  },
  {
   "cell_type": "code",
   "execution_count": 17,
   "metadata": {},
   "outputs": [],
   "source": [
    "times = []\n",
    "for x in range(0, 200, 2):\n",
    "    grid = [[0 for i in range(x)] for j in range(x)]\n",
    "    start = datetime.now()\n",
    "    how_many_paths(grid)\n",
    "    end = datetime.now()\n",
    "    times.append((end-start)/timedelta(milliseconds=1))"
   ]
  },
  {
   "cell_type": "markdown",
   "metadata": {},
   "source": [
    "Actual runtime"
   ]
  },
  {
   "cell_type": "code",
   "execution_count": 18,
   "metadata": {},
   "outputs": [
    {
     "data": {
      "text/plain": [
       "<AxesSubplot:>"
      ]
     },
     "execution_count": 18,
     "metadata": {},
     "output_type": "execute_result"
    },
    {
     "data": {
      "image/png": "[encoded data removed]",
      "text/plain": [
       "<Figure size 432x288 with 1 Axes>"
      ]
     },
     "metadata": {
      "needs_background": "light"
     },
     "output_type": "display_data"
    }
   ],
   "source": [
    "sns.lineplot(data=times)"
   ]
  },
  {
   "cell_type": "markdown",
   "metadata": {},
   "source": [
    "O(n)"
   ]
  },
  {
   "cell_type": "code",
   "execution_count": 19,
   "metadata": {},
   "outputs": [
    {
     "data": {
      "text/plain": [
       "<AxesSubplot:>"
      ]
     },
     "execution_count": 19,
     "metadata": {},
     "output_type": "execute_result"
    },
    {
     "data": {
      "image/png": "[encoded data removed]",
      "text/plain": [
       "<Figure size 432x288 with 1 Axes>"
      ]
     },
     "metadata": {
      "needs_background": "light"
     },
     "output_type": "display_data"
    }
   ],
   "source": [
    "sns.lineplot(data=[x for x in range(20)])"
   ]
  },
  {
   "cell_type": "code",
   "execution_count": null,
   "metadata": {},
   "outputs": [],
   "source": []
  }
 ],
 "metadata": {
  "kernelspec": {
   "display_name": "Python 3",
   "language": "python",
   "name": "python3"
  },
  "language_info": {
   "codemirror_mode": {
    "name": "ipython",
    "version": 3
   },
   "file_extension": ".py",
   "mimetype": "text/x-python",
   "name": "python",
   "nbconvert_exporter": "python",
   "pygments_lexer": "ipython3",
   "version": "3.8.8"
  }
 },
 "nbformat": 4,
 "nbformat_minor": 4
}
